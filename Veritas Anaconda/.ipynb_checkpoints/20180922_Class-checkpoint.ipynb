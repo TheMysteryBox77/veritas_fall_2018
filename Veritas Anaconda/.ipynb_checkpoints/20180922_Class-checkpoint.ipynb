{
 "cells": [
  {
   "cell_type": "markdown",
   "metadata": {},
   "source": [
    "# Class definition"
   ]
  },
  {
   "cell_type": "code",
   "execution_count": 1,
   "metadata": {},
   "outputs": [],
   "source": [
    "def gcd(m,n):\n",
    "    while m%n != 0:\n",
    "        oldm = m\n",
    "        oldn = n\n",
    "\n",
    "        m = oldn\n",
    "        n = oldm%oldn\n",
    "    return n\n",
    "\n",
    "class Fraction(object):\n",
    "    \n",
    "    def __init__(self, top, bottom):\n",
    "        self.num = top\n",
    "        self.den = bottom\n",
    "        \n",
    "    def show(self):\n",
    "        print(self.num, '/', self.den)\n",
    "        \n",
    "    def __str__(self):\n",
    "        return str(self.num) + \"/\" + str(self.den)\n",
    "    \n",
    "    def __add__(self, otherfraction):\n",
    "        newnum = self.num*otherfraction.den + self.den*otherfraction.num\n",
    "        newden = self.den * otherfraction.den\n",
    "        common = gcd(newnum,newden)\n",
    "\n",
    "        return Fraction(newnum//common,newden//common)\n",
    "    \n",
    "    def __eq__(self, other):\n",
    "        firstnum = self.num * other.den\n",
    "        secondnum = other.num * self.den\n",
    "\n",
    "        return firstnum == secondnum\n",
    "    "
   ]
  },
  {
   "cell_type": "code",
   "execution_count": 2,
   "metadata": {},
   "outputs": [],
   "source": [
    "myf = Fraction(3, 5)"
   ]
  },
  {
   "cell_type": "code",
   "execution_count": 3,
   "metadata": {},
   "outputs": [
    {
     "name": "stdout",
     "output_type": "stream",
     "text": [
      "3 / 5\n"
     ]
    }
   ],
   "source": [
    "myf.show()"
   ]
  },
  {
   "cell_type": "markdown",
   "metadata": {},
   "source": [
    "## Override __str__()"
   ]
  },
  {
   "cell_type": "code",
   "execution_count": 4,
   "metadata": {
    "scrolled": true
   },
   "outputs": [
    {
     "name": "stdout",
     "output_type": "stream",
     "text": [
      "3/5\n"
     ]
    }
   ],
   "source": [
    "print(myf)\n"
   ]
  },
  {
   "cell_type": "code",
   "execution_count": 5,
   "metadata": {},
   "outputs": [
    {
     "data": {
      "text/plain": [
       "'3/5'"
      ]
     },
     "execution_count": 5,
     "metadata": {},
     "output_type": "execute_result"
    }
   ],
   "source": [
    "str(myf)"
   ]
  },
  {
   "cell_type": "markdown",
   "metadata": {},
   "source": [
    "## Override __add__()"
   ]
  },
  {
   "cell_type": "code",
   "execution_count": 6,
   "metadata": {},
   "outputs": [],
   "source": [
    "f1 = Fraction(1, 4)\n",
    "f2 = Fraction(1, 2)"
   ]
  },
  {
   "cell_type": "code",
   "execution_count": 7,
   "metadata": {},
   "outputs": [],
   "source": [
    "f3 = f1 + f2"
   ]
  },
  {
   "cell_type": "code",
   "execution_count": 8,
   "metadata": {},
   "outputs": [
    {
     "data": {
      "text/plain": [
       "__main__.Fraction"
      ]
     },
     "execution_count": 8,
     "metadata": {},
     "output_type": "execute_result"
    }
   ],
   "source": [
    "type(f3)"
   ]
  },
  {
   "cell_type": "code",
   "execution_count": 9,
   "metadata": {},
   "outputs": [
    {
     "name": "stdout",
     "output_type": "stream",
     "text": [
      "3/4\n"
     ]
    }
   ],
   "source": [
    "print(f3)"
   ]
  },
  {
   "cell_type": "markdown",
   "metadata": {},
   "source": [
    "## Equality"
   ]
  },
  {
   "cell_type": "code",
   "execution_count": 10,
   "metadata": {},
   "outputs": [
    {
     "data": {
      "text/plain": [
       "False"
      ]
     },
     "execution_count": 10,
     "metadata": {},
     "output_type": "execute_result"
    }
   ],
   "source": [
    "f1 == f2\n"
   ]
  },
  {
   "cell_type": "code",
   "execution_count": null,
   "metadata": {},
   "outputs": [],
   "source": []
  }
 ],
 "metadata": {
  "kernelspec": {
   "display_name": "Python 3",
   "language": "python",
   "name": "python3"
  },
  "language_info": {
   "codemirror_mode": {
    "name": "ipython",
    "version": 3
   },
   "file_extension": ".py",
   "mimetype": "text/x-python",
   "name": "python",
   "nbconvert_exporter": "python",
   "pygments_lexer": "ipython3",
   "version": "3.6.5"
  }
 },
 "nbformat": 4,
 "nbformat_minor": 2
}
